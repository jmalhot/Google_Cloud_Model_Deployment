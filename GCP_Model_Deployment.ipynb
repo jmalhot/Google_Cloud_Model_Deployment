{
 "cells": [
  {
   "cell_type": "markdown",
   "metadata": {},
   "source": [
    "<b><font size=\"5\"><p>Inference - Model Deployment on Google Cloud Platform</p></b>\n"
   ]
  },
  {
   "cell_type": "code",
   "execution_count": 35,
   "metadata": {},
   "outputs": [
    {
     "name": "stdout",
     "output_type": "stream",
     "text": [
      "Collecting scikit-learn==0.20.4\n",
      "  Using cached https://files.pythonhosted.org/packages/69/ee/46c86104541f18706642cf9ae32b5f7614b59cd024ec3a13b0c08751eba6/scikit_learn-0.20.4-cp37-cp37m-macosx_10_6_intel.macosx_10_9_intel.macosx_10_9_x86_64.macosx_10_10_intel.macosx_10_10_x86_64.whl\n",
      "Requirement already satisfied, skipping upgrade: scipy>=0.13.3 in /Users/jatinmalhotra/anaconda3/lib/python3.7/site-packages (from scikit-learn==0.20.4) (1.4.1)\n",
      "Requirement already satisfied, skipping upgrade: numpy>=1.8.2 in /Users/jatinmalhotra/anaconda3/lib/python3.7/site-packages (from scikit-learn==0.20.4) (1.18.1)\n",
      "\u001b[31mtensorlayer 2.1.0 has requirement numpy<1.17,>=1.16, but you'll have numpy 1.18.1 which is incompatible.\u001b[0m\n",
      "\u001b[31mtensorlayer 2.1.0 has requirement scikit-learn==0.21.0, but you'll have scikit-learn 0.20.4 which is incompatible.\u001b[0m\n",
      "\u001b[31mtensorlayer 2.1.0 has requirement scipy==1.2.1, but you'll have scipy 1.4.1 which is incompatible.\u001b[0m\n",
      "\u001b[31mimbalanced-learn 0.6.2 has requirement scikit-learn>=0.22, but you'll have scikit-learn 0.20.4 which is incompatible.\u001b[0m\n",
      "\u001b[31mautogluon 0.0.5 has requirement scikit-learn==0.21.2, but you'll have scikit-learn 0.20.4 which is incompatible.\u001b[0m\n",
      "Installing collected packages: scikit-learn\n",
      "  Found existing installation: scikit-learn 0.22.2.post1\n",
      "    Uninstalling scikit-learn-0.22.2.post1:\n",
      "      Successfully uninstalled scikit-learn-0.22.2.post1\n",
      "Successfully installed scikit-learn-0.20.4\n"
     ]
    }
   ],
   "source": [
    "!pip install -U scikit-learn==0.20.4\n"
   ]
  },
  {
   "cell_type": "code",
   "execution_count": 18,
   "metadata": {},
   "outputs": [
    {
     "name": "stdout",
     "output_type": "stream",
     "text": [
      "Python 3.7.3\n",
      "The scikit-learn version is 0.20.4.\n"
     ]
    }
   ],
   "source": [
    "!python --version\n",
    "import sklearn\n",
    "print('The scikit-learn version is {}.'.format(sklearn.__version__))\n"
   ]
  },
  {
   "cell_type": "code",
   "execution_count": 8,
   "metadata": {},
   "outputs": [],
   "source": [
    "df = df_train_spark2.toPandas()"
   ]
  },
  {
   "cell_type": "code",
   "execution_count": 9,
   "metadata": {},
   "outputs": [],
   "source": [
    "# This is done to create sklearn model because GCP does not yet support AutoGluon\n",
    "X_train = df[FEATURES]\n",
    "y_train = df[LABEL]\n"
   ]
  },
  {
   "cell_type": "code",
   "execution_count": null,
   "metadata": {},
   "outputs": [],
   "source": [
    "#UnderSampling\n",
    "from collections import Counter\n",
    "from imblearn.under_sampling import RandomUnderSampler\n",
    "\n",
    "rus = RandomUnderSampler(random_state=0)\n",
    "\n",
    "X, y = rus.fit_resample(X_train, y_train)\n",
    "\n",
    "print(sorted(Counter(y).items()))\n"
   ]
  },
  {
   "cell_type": "code",
   "execution_count": 12,
   "metadata": {},
   "outputs": [
    {
     "name": "stderr",
     "output_type": "stream",
     "text": [
      "/Users/jatinmalhotra/anaconda3/lib/python3.7/site-packages/sklearn/linear_model/logistic.py:433: FutureWarning: Default solver will be changed to 'lbfgs' in 0.22. Specify a solver to silence this warning.\n",
      "  FutureWarning)\n"
     ]
    }
   ],
   "source": [
    "from sklearn.linear_model import LogisticRegression\n",
    "classifier=LogisticRegression(random_state=0).fit(X_train, y_train)\n"
   ]
  },
  {
   "cell_type": "code",
   "execution_count": 24,
   "metadata": {},
   "outputs": [],
   "source": [
    "'''\n",
    "from sklearn.ensemble import RandomForestClassifier\n",
    "\n",
    "classifier=RandomForestClassifier(max_depth = 4,\n",
    "                            n_estimators=100,\n",
    "                            random_state = 42\n",
    "                            ).fit(X, y)\n",
    "\n",
    "'''"
   ]
  },
  {
   "cell_type": "code",
   "execution_count": 13,
   "metadata": {},
   "outputs": [],
   "source": [
    "import pickle\n",
    "pickle.dump(classifier, open('model.pkl', 'wb'))\n"
   ]
  },
  {
   "cell_type": "markdown",
   "metadata": {},
   "source": [
    "<b><font size=\"3\"><p>3.1 - Copy model.pkl file on google cloud storage </p></b>\n",
    "    "
   ]
  },
  {
   "cell_type": "code",
   "execution_count": 14,
   "metadata": {},
   "outputs": [
    {
     "name": "stdout",
     "output_type": "stream",
     "text": [
      "Copying file://model.pkl [Content-Type=application/octet-stream]...\n",
      "/ [1 files][  800.0 B/  800.0 B]                                                \n",
      "Operation completed over 1 objects/800.0 B.                                      \n"
     ]
    }
   ],
   "source": [
    "!gsutil cp model.pkl gs://n-models/model.pkl    "
   ]
  },
  {
   "cell_type": "markdown",
   "metadata": {},
   "source": [
    "<b><font size=\"3\"><p>3.2 - Set GCP Project to be used for hosting a model</p></b>\n",
    "    "
   ]
  },
  {
   "cell_type": "code",
   "execution_count": 15,
   "metadata": {},
   "outputs": [
    {
     "name": "stdout",
     "output_type": "stream",
     "text": [
      "Updated property [core/project].\r\n"
     ]
    }
   ],
   "source": [
    "!gcloud config set project \"nest-ml\""
   ]
  },
  {
   "cell_type": "markdown",
   "metadata": {},
   "source": [
    "<b><font size=\"3\"><p>3.3 - Setup a new Model on GCP AI Platform</p></b>\n",
    "    "
   ]
  },
  {
   "cell_type": "code",
   "execution_count": 16,
   "metadata": {},
   "outputs": [
    {
     "name": "stdout",
     "output_type": "stream",
     "text": [
      "Created ml engine model [projects/nest-ml/models/model_deployment11].\r\n"
     ]
    }
   ],
   "source": [
    "!gcloud ai-platform models create \"model_deployment11\" --regions us-central1"
   ]
  },
  {
   "cell_type": "markdown",
   "metadata": {},
   "source": [
    "<b><font size=\"3\"><p>3.4 - Set Environment Variables</p></b>"
   ]
  },
  {
   "cell_type": "code",
   "execution_count": 17,
   "metadata": {},
   "outputs": [],
   "source": [
    "MODEL_DIR=\"gs://n-models\"\n",
    "VERSION_NAME=\"initial\"\n",
    "MODEL_NAME=\"model_deployment11\"\n",
    "FRAMEWORK=\"scikit-learn\""
   ]
  },
  {
   "cell_type": "markdown",
   "metadata": {},
   "source": [
    "<b><font size=\"3\"><p>3.5 -  Deploy</p></b>"
   ]
  },
  {
   "cell_type": "code",
   "execution_count": null,
   "metadata": {},
   "outputs": [],
   "source": [
    "!gcloud ai-platform versions create $VERSION_NAME \\\n",
    "  --model $MODEL_NAME \\\n",
    "  --origin $MODEL_DIR \\\n",
    "  --runtime-version=1.15 \\\n",
    "  --framework $FRAMEWORK \\\n",
    "  --python-version=3.7\\\n",
    "  --description=\"testing\"\n"
   ]
  },
  {
   "cell_type": "markdown",
   "metadata": {},
   "source": [
    "<b><font size=\"3\"><p>3.6 -  Describe deployed Model</p></b>"
   ]
  },
  {
   "cell_type": "code",
   "execution_count": null,
   "metadata": {},
   "outputs": [],
   "source": [
    "# Get details about deployed model\n",
    "!gcloud ai-platform versions describe $VERSION_NAME \\\n",
    "  --model $MODEL_NAME"
   ]
  },
  {
   "cell_type": "code",
   "execution_count": null,
   "metadata": {},
   "outputs": [],
   "source": []
  },
  {
   "cell_type": "markdown",
   "metadata": {},
   "source": [
    "<b><font size=\"3\"><p>3.7 -  Call Deloyed Model to make Inference on new data </p></b>"
   ]
  },
  {
   "cell_type": "code",
   "execution_count": null,
   "metadata": {},
   "outputs": [],
   "source": [
    "# inference is a file containing testing data\n",
    "!gcloud ai-platform predict --model \"model_deployment\" \\\n",
    "  --version \"initial\" \\\n",
    "  --json-instances \"gcp_inherence_data.txt\""
   ]
  },
  {
   "cell_type": "markdown",
   "metadata": {},
   "source": [
    "<b><font size=\"5\"><p>THANK YOU </p></b>"
   ]
  },
  {
   "cell_type": "code",
   "execution_count": null,
   "metadata": {},
   "outputs": [],
   "source": []
  }
 ],
 "metadata": {
  "kernelspec": {
   "display_name": "Python 3",
   "language": "python",
   "name": "python3"
  },
  "language_info": {
   "codemirror_mode": {
    "name": "ipython",
    "version": 3
   },
   "file_extension": ".py",
   "mimetype": "text/x-python",
   "name": "python",
   "nbconvert_exporter": "python",
   "pygments_lexer": "ipython3",
   "version": "3.7.3"
  }
 },
 "nbformat": 4,
 "nbformat_minor": 2
}
